{
 "cells": [
  {
   "cell_type": "code",
   "execution_count": null,
   "id": "09b88c35-19ce-4134-83df-899c45f1f970",
   "metadata": {},
   "outputs": [],
   "source": [
    "import sys\n",
    "import socket\n",
    "import thread\n",
    "\n",
    "cons = set()\n",
    "clients = {\n",
    "1: {'x': 100, 'y': 100},\n",
    "2: {'x': 400, 'y': 100},\n",
    "3: {'x': 100, 'y': 400},\n",
    "4: {'x': 400, 'y': 400}}\n",
    "\n",
    "HOST = \"127.0.0.1\"\n",
    "PORT = 53333\n",
    "\n",
    "def track_movement(con, addr, pid):\n",
    "    cons.add(con)\n",
    "    while True: \n",
    "        msg = con.recv(64)\n",
    "        if not msg:\n",
    "            break\n",
    "        print(msg.decode())\n",
    "        for c in cons:\n",
    "            c.send(msg)\n",
    "    con.close()\n",
    "\n",
    "# client set -> https://stackoverflow.com/questions/27139240/i-need-the-server-to-send-messages-to-all-clients-python-sockets\n",
    "\n",
    "server_socket = socket.socket(socket.AF_INET, socket.SOCK_STREAM)\n",
    "server_socket.bind((HOST, PORT)) \n",
    "server_socket.listen(4)\n",
    "\n",
    "while True: \n",
    "    con, addr = server_socket.accept()\n",
    "    x = threading.Thread(target=track_movement, args=(con, addr, len(cons)+1))\n",
    "    x.start()"
   ]
  },
  {
   "cell_type": "code",
   "execution_count": null,
   "id": "ec53fb78-443b-43c1-99fa-f75d08effd11",
   "metadata": {},
   "outputs": [],
   "source": []
  }
 ],
 "metadata": {
  "kernelspec": {
   "display_name": "Python 3 (ipykernel)",
   "language": "python",
   "name": "python3"
  },
  "language_info": {
   "codemirror_mode": {
    "name": "ipython",
    "version": 3
   },
   "file_extension": ".py",
   "mimetype": "text/x-python",
   "name": "python",
   "nbconvert_exporter": "python",
   "pygments_lexer": "ipython3",
   "version": "3.13.2"
  }
 },
 "nbformat": 4,
 "nbformat_minor": 5
}
